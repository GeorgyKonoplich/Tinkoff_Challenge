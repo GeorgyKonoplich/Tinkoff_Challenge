{
 "cells": [
  {
   "cell_type": "code",
   "execution_count": 12,
   "metadata": {
    "collapsed": false
   },
   "outputs": [
    {
     "name": "stderr",
     "output_type": "stream",
     "text": [
      "/usr/local/lib/python2.7/dist-packages/sklearn/grid_search.py:43: DeprecationWarning: This module was deprecated in version 0.18 in favor of the model_selection module into which all the refactored classes and functions are moved. This module will be removed in 0.20.\n",
      "  DeprecationWarning)\n"
     ]
    }
   ],
   "source": [
    "import pandas as pd\n",
    "import numpy as np\n",
    "import matplotlib.pyplot as plt\n",
    "import seaborn as sns\n",
    "from sklearn.grid_search import GridSearchCV\n",
    "from sklearn.model_selection import StratifiedKFold\n",
    "from sklearn.cluster import KMeans\n",
    "from sklearn.cross_validation import train_test_split\n",
    "from sklearn import metrics, preprocessing\n",
    "import xgboost\n",
    "%matplotlib inline"
   ]
  },
  {
   "cell_type": "code",
   "execution_count": 2,
   "metadata": {
    "collapsed": false
   },
   "outputs": [],
   "source": [
    "df = pd.read_csv('../data/raw/credit_train.csv', sep=';', encoding='CP1251')\n",
    "df_test = pd.read_csv('../data/raw/credit_test.csv', sep=';', encoding='CP1251')"
   ]
  },
  {
   "cell_type": "code",
   "execution_count": 3,
   "metadata": {
    "collapsed": true
   },
   "outputs": [],
   "source": [
    "parsable_columns = ['credit_sum', 'score_shk']\n",
    "for key in parsable_columns:\n",
    "    df[key] = df[key].map(lambda val: val.replace(',','.')).map(float)\n",
    "    df_test[key] = df_test[key].map(lambda val: val.replace(',','.')).map(float)"
   ]
  },
  {
   "cell_type": "code",
   "execution_count": 4,
   "metadata": {
    "collapsed": false
   },
   "outputs": [
    {
     "name": "stderr",
     "output_type": "stream",
     "text": [
      "/usr/local/lib/python2.7/dist-packages/numpy/lib/arraysetops.py:200: FutureWarning: numpy not_equal will not check object identity in the future. The comparison did not return the same result as suggested by the identity (`is`)) and will change.\n",
      "  flag = np.concatenate(([True], aux[1:] != aux[:-1]))\n",
      "/usr/local/lib/python2.7/dist-packages/numpy/lib/arraysetops.py:259: FutureWarning: numpy equal will not check object identity in the future. The comparison did not return the same result as suggested by the identity (`is`)) and will change.\n",
      "  return aux[:-1][aux[1:] == aux[:-1]]\n"
     ]
    }
   ],
   "source": [
    "categorizable_columns = ['gender', 'marital_status', 'job_position', 'education', 'living_region']\n",
    "for key in categorizable_columns:\n",
    "    le = preprocessing.LabelEncoder()\n",
    "    le.fit(\n",
    "        np.unique(\n",
    "            np.concatenate((\n",
    "                df[key].unique(), \n",
    "                df_test[key].unique()\n",
    "            ))\n",
    "        )\n",
    "    )\n",
    "    df[key] = le.transform(df[key])\n",
    "    df_test[key] = le.transform(df_test[key])"
   ]
  },
  {
   "cell_type": "code",
   "execution_count": null,
   "metadata": {
    "collapsed": false
   },
   "outputs": [],
   "source": [
    "corr = df.corr()"
   ]
  },
  {
   "cell_type": "code",
   "execution_count": null,
   "metadata": {
    "collapsed": false
   },
   "outputs": [],
   "source": [
    "plt.figure(figsize=(10,7))\n",
    "sns.heatmap(corr, cmap=\"YlGnBu\")\n",
    "plt.show()"
   ]
  },
  {
   "cell_type": "code",
   "execution_count": 5,
   "metadata": {
    "collapsed": true
   },
   "outputs": [],
   "source": [
    "df_train = df"
   ]
  },
  {
   "cell_type": "code",
   "execution_count": 6,
   "metadata": {
    "collapsed": false
   },
   "outputs": [],
   "source": [
    "xgb = xgboost.XGBRegressor(\n",
    "    learning_rate=0.1,\n",
    "    n_estimators=2000,\n",
    "    max_depth=5,\n",
    "    min_child_weight=5,\n",
    "    gamma=0,\n",
    "    subsample=0.75,\n",
    "    colsample_bytree=0.8,\n",
    "    objective=\"reg:linear\",\n",
    "    reg_alpha=0.01,\n",
    "    seed=0,\n",
    ")"
   ]
  },
  {
   "cell_type": "code",
   "execution_count": 9,
   "metadata": {
    "collapsed": false
   },
   "outputs": [],
   "source": [
    "df_predictors = df_train.drop([\"open_account_flg\", 'client_id'], axis=1)\n",
    "df_target = df_train[\"open_account_flg\"]\n",
    "\n",
    "xgtrain = xgboost.DMatrix(data=df_predictors, label=df_target)"
   ]
  },
  {
   "cell_type": "code",
   "execution_count": 10,
   "metadata": {
    "collapsed": false
   },
   "outputs": [
    {
     "data": {
      "text/plain": [
       "Index([u'gender', u'age', u'marital_status', u'job_position', u'credit_sum',\n",
       "       u'credit_month', u'tariff_id', u'score_shk', u'education',\n",
       "       u'living_region', u'monthly_income', u'credit_count',\n",
       "       u'overdue_credit_count'],\n",
       "      dtype='object')"
      ]
     },
     "execution_count": 10,
     "metadata": {},
     "output_type": "execute_result"
    }
   ],
   "source": [
    "df_predictors.columns"
   ]
  },
  {
   "cell_type": "code",
   "execution_count": 11,
   "metadata": {
    "collapsed": false
   },
   "outputs": [
    {
     "name": "stdout",
     "output_type": "stream",
     "text": [
      "[0]\ttrain-auc:0.686609+0.000817934\ttest-auc:0.684081+0.0034076\n",
      "[20]\ttrain-auc:0.755142+0.000828913\ttest-auc:0.749144+0.00231937\n",
      "[40]\ttrain-auc:0.766064+0.000379386\ttest-auc:0.757101+0.00227024\n",
      "[60]\ttrain-auc:0.772069+0.000429001\ttest-auc:0.760571+0.00197008\n",
      "[80]\ttrain-auc:0.776398+0.0006707\ttest-auc:0.762456+0.00160641\n",
      "[100]\ttrain-auc:0.779984+0.00060926\ttest-auc:0.763913+0.00155672\n",
      "[120]\ttrain-auc:0.782848+0.000477418\ttest-auc:0.764544+0.00160696\n",
      "[140]\ttrain-auc:0.785459+0.00047507\ttest-auc:0.765081+0.00172415\n",
      "[160]\ttrain-auc:0.787677+0.000458523\ttest-auc:0.765459+0.00173629\n",
      "[180]\ttrain-auc:0.789694+0.000475545\ttest-auc:0.765638+0.00169719\n",
      "[200]\ttrain-auc:0.791704+0.000541268\ttest-auc:0.76579+0.00179948\n",
      "[220]\ttrain-auc:0.793906+0.000562259\ttest-auc:0.766054+0.00193349\n",
      "[240]\ttrain-auc:0.795937+0.000594976\ttest-auc:0.76619+0.00199888\n",
      "[260]\ttrain-auc:0.798012+0.000591229\ttest-auc:0.766261+0.00197411\n",
      "[280]\ttrain-auc:0.799829+0.000554284\ttest-auc:0.766121+0.00210919\n",
      "[300]\ttrain-auc:0.801582+0.000538373\ttest-auc:0.766126+0.00205723\n"
     ]
    }
   ],
   "source": [
    "xgb_param = xgb.get_xgb_params()\n",
    "cvresult = xgboost.cv(\n",
    "    xgb_param,\n",
    "    xgtrain,\n",
    "    num_boost_round=xgb_param['n_estimators'],\n",
    "    nfold=5,\n",
    "    verbose_eval=20,\n",
    "    early_stopping_rounds=50,\n",
    "    metrics='auc'\n",
    ")"
   ]
  },
  {
   "cell_type": "code",
   "execution_count": 13,
   "metadata": {
    "collapsed": false
   },
   "outputs": [
    {
     "data": {
      "text/plain": [
       "261"
      ]
     },
     "execution_count": 13,
     "metadata": {},
     "output_type": "execute_result"
    }
   ],
   "source": [
    "cvresult.shape[0]"
   ]
  },
  {
   "cell_type": "code",
   "execution_count": null,
   "metadata": {
    "collapsed": false
   },
   "outputs": [],
   "source": [
    "xgb.set_params(n_estimators=cvresult.shape[0])"
   ]
  },
  {
   "cell_type": "code",
   "execution_count": null,
   "metadata": {
    "collapsed": false
   },
   "outputs": [],
   "source": [
    "xgboost.plot_importance(xgb)"
   ]
  },
  {
   "cell_type": "code",
   "execution_count": null,
   "metadata": {
    "collapsed": false
   },
   "outputs": [],
   "source": [
    "from sklearn.metrics import auc\n",
    "\n",
    "booster = xgb.fit(df_predictors, df_target, eval_metric=auc)"
   ]
  },
  {
   "cell_type": "code",
   "execution_count": null,
   "metadata": {
    "collapsed": false
   },
   "outputs": [],
   "source": [
    "df_test['predicted_target'] = xgb.predict(df_test.drop(['client_id'], axis=1))\n",
    "df_test['predicted_target_cropped'] = df_test['predicted_target'].rank().astype(int)\n",
    "s = df_test[['client_id','predicted_target_cropped']].rename(columns={'predicted_target_cropped': '_VAL_', 'client_id': '_ID_'})\n",
    "s.to_csv('./ans_xgboost.csv', index=False, index_label='_ID_')"
   ]
  },
  {
   "cell_type": "code",
   "execution_count": null,
   "metadata": {
    "collapsed": true
   },
   "outputs": [],
   "source": []
  }
 ],
 "metadata": {
  "kernelspec": {
   "display_name": "Python 2",
   "language": "python",
   "name": "python2"
  },
  "language_info": {
   "codemirror_mode": {
    "name": "ipython",
    "version": 2
   },
   "file_extension": ".py",
   "mimetype": "text/x-python",
   "name": "python",
   "nbconvert_exporter": "python",
   "pygments_lexer": "ipython2",
   "version": "2.7.12"
  }
 },
 "nbformat": 4,
 "nbformat_minor": 1
}

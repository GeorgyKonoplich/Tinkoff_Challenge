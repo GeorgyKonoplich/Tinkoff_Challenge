{
 "cells": [
  {
   "cell_type": "code",
   "execution_count": 49,
   "metadata": {
    "collapsed": false
   },
   "outputs": [],
   "source": [
    "import pandas as pd\n",
    "import numpy as np\n",
    "import matplotlib.pyplot as plt\n",
    "import seaborn as sns\n",
    "from sklearn.grid_search import GridSearchCV\n",
    "from sklearn.model_selection import StratifiedKFold\n",
    "from sklearn.cluster import KMeans\n",
    "from sklearn.model_selection import train_test_split\n",
    "from sklearn import metrics, preprocessing\n",
    "import xgboost as xgb\n",
    "from sklearn.preprocessing import LabelEncoder\n",
    "%matplotlib inline"
   ]
  },
  {
   "cell_type": "code",
   "execution_count": 32,
   "metadata": {
    "collapsed": true
   },
   "outputs": [],
   "source": [
    "df_train = pd.read_csv('../data/raw/credit_train.csv', sep=';', encoding='CP1251')\n",
    "df_test = pd.read_csv('../data/raw/credit_test.csv', sep=';', encoding='CP1251')"
   ]
  },
  {
   "cell_type": "code",
   "execution_count": 33,
   "metadata": {
    "collapsed": true
   },
   "outputs": [],
   "source": [
    "from sklearn.base import TransformerMixin\n",
    "class DataFrameImputer(TransformerMixin):\n",
    "    def fit(self, X, y=None):\n",
    "        self.fill = pd.Series([X[c].value_counts().index[0]\n",
    "            if X[c].dtype == np.dtype('O') else X[c].median() for c in X],\n",
    "            index=X.columns)\n",
    "        return self\n",
    "    def transform(self, X, y=None):\n",
    "        return X.fillna(self.fill)\n"
   ]
  },
  {
   "cell_type": "code",
   "execution_count": 34,
   "metadata": {
    "collapsed": false
   },
   "outputs": [
    {
     "data": {
      "text/html": [
       "<div>\n",
       "<table border=\"1\" class=\"dataframe\">\n",
       "  <thead>\n",
       "    <tr style=\"text-align: right;\">\n",
       "      <th></th>\n",
       "      <th>client_id</th>\n",
       "      <th>gender</th>\n",
       "      <th>age</th>\n",
       "      <th>marital_status</th>\n",
       "      <th>job_position</th>\n",
       "      <th>credit_sum</th>\n",
       "      <th>credit_month</th>\n",
       "      <th>tariff_id</th>\n",
       "      <th>score_shk</th>\n",
       "      <th>education</th>\n",
       "      <th>living_region</th>\n",
       "      <th>monthly_income</th>\n",
       "      <th>credit_count</th>\n",
       "      <th>overdue_credit_count</th>\n",
       "      <th>open_account_flg</th>\n",
       "    </tr>\n",
       "  </thead>\n",
       "  <tbody>\n",
       "    <tr>\n",
       "      <th>0</th>\n",
       "      <td>1</td>\n",
       "      <td>M</td>\n",
       "      <td>48</td>\n",
       "      <td>MAR</td>\n",
       "      <td>UMN</td>\n",
       "      <td>59998,00</td>\n",
       "      <td>10</td>\n",
       "      <td>1.6</td>\n",
       "      <td>0,770249</td>\n",
       "      <td>GRD</td>\n",
       "      <td>КРАСНОДАРСКИЙ КРАЙ</td>\n",
       "      <td>30000.0</td>\n",
       "      <td>1.0</td>\n",
       "      <td>1.0</td>\n",
       "      <td>0</td>\n",
       "    </tr>\n",
       "    <tr>\n",
       "      <th>1</th>\n",
       "      <td>2</td>\n",
       "      <td>F</td>\n",
       "      <td>28</td>\n",
       "      <td>MAR</td>\n",
       "      <td>UMN</td>\n",
       "      <td>10889,00</td>\n",
       "      <td>6</td>\n",
       "      <td>1.1</td>\n",
       "      <td>0,248514</td>\n",
       "      <td>GRD</td>\n",
       "      <td>МОСКВА</td>\n",
       "      <td>43000.0</td>\n",
       "      <td>2.0</td>\n",
       "      <td>0.0</td>\n",
       "      <td>0</td>\n",
       "    </tr>\n",
       "    <tr>\n",
       "      <th>2</th>\n",
       "      <td>3</td>\n",
       "      <td>M</td>\n",
       "      <td>32</td>\n",
       "      <td>MAR</td>\n",
       "      <td>SPC</td>\n",
       "      <td>10728,00</td>\n",
       "      <td>12</td>\n",
       "      <td>1.1</td>\n",
       "      <td>0,459589</td>\n",
       "      <td>SCH</td>\n",
       "      <td>ОБЛ САРАТОВСКАЯ</td>\n",
       "      <td>23000.0</td>\n",
       "      <td>5.0</td>\n",
       "      <td>0.0</td>\n",
       "      <td>0</td>\n",
       "    </tr>\n",
       "    <tr>\n",
       "      <th>3</th>\n",
       "      <td>4</td>\n",
       "      <td>F</td>\n",
       "      <td>27</td>\n",
       "      <td>DIV</td>\n",
       "      <td>SPC</td>\n",
       "      <td>12009,09</td>\n",
       "      <td>12</td>\n",
       "      <td>1.1</td>\n",
       "      <td>0,362536</td>\n",
       "      <td>GRD</td>\n",
       "      <td>ОБЛ ВОЛГОГРАДСКАЯ</td>\n",
       "      <td>17000.0</td>\n",
       "      <td>2.0</td>\n",
       "      <td>0.0</td>\n",
       "      <td>0</td>\n",
       "    </tr>\n",
       "    <tr>\n",
       "      <th>4</th>\n",
       "      <td>5</td>\n",
       "      <td>M</td>\n",
       "      <td>45</td>\n",
       "      <td>MAR</td>\n",
       "      <td>SPC</td>\n",
       "      <td>16908,89</td>\n",
       "      <td>10</td>\n",
       "      <td>1.1</td>\n",
       "      <td>0,421385</td>\n",
       "      <td>SCH</td>\n",
       "      <td>ЧЕЛЯБИНСКАЯ ОБЛАСТЬ</td>\n",
       "      <td>25000.0</td>\n",
       "      <td>1.0</td>\n",
       "      <td>0.0</td>\n",
       "      <td>0</td>\n",
       "    </tr>\n",
       "  </tbody>\n",
       "</table>\n",
       "</div>"
      ],
      "text/plain": [
       "   client_id gender  age marital_status job_position credit_sum  credit_month  \\\n",
       "0          1      M   48            MAR          UMN   59998,00            10   \n",
       "1          2      F   28            MAR          UMN   10889,00             6   \n",
       "2          3      M   32            MAR          SPC   10728,00            12   \n",
       "3          4      F   27            DIV          SPC   12009,09            12   \n",
       "4          5      M   45            MAR          SPC   16908,89            10   \n",
       "\n",
       "   tariff_id score_shk education        living_region  monthly_income  \\\n",
       "0        1.6  0,770249       GRD   КРАСНОДАРСКИЙ КРАЙ         30000.0   \n",
       "1        1.1  0,248514       GRD               МОСКВА         43000.0   \n",
       "2        1.1  0,459589       SCH      ОБЛ САРАТОВСКАЯ         23000.0   \n",
       "3        1.1  0,362536       GRD    ОБЛ ВОЛГОГРАДСКАЯ         17000.0   \n",
       "4        1.1  0,421385       SCH  ЧЕЛЯБИНСКАЯ ОБЛАСТЬ         25000.0   \n",
       "\n",
       "   credit_count  overdue_credit_count  open_account_flg  \n",
       "0           1.0                   1.0                 0  \n",
       "1           2.0                   0.0                 0  \n",
       "2           5.0                   0.0                 0  \n",
       "3           2.0                   0.0                 0  \n",
       "4           1.0                   0.0                 0  "
      ]
     },
     "execution_count": 34,
     "metadata": {},
     "output_type": "execute_result"
    }
   ],
   "source": [
    "df_train.head()"
   ]
  },
  {
   "cell_type": "code",
   "execution_count": 35,
   "metadata": {
    "collapsed": true
   },
   "outputs": [],
   "source": [
    "def replace_comma(df):\n",
    "    parsable_columns = ['credit_sum', 'score_shk']\n",
    "    for key in parsable_columns:\n",
    "        df[key] = df[key].map(lambda val: val.replace(',','.')).map(float)\n",
    "    return df"
   ]
  },
  {
   "cell_type": "code",
   "execution_count": 36,
   "metadata": {
    "collapsed": false
   },
   "outputs": [],
   "source": [
    "df_train = replace_comma(df_train)\n",
    "df_test = replace_comma(df_test)"
   ]
  },
  {
   "cell_type": "markdown",
   "metadata": {},
   "source": [
    "join the features from train and test together before imputing missing values,in case their distribution is slightly different\n",
    "\n",
    "df[df.isnull().any(axis=1)]"
   ]
  },
  {
   "cell_type": "code",
   "execution_count": 37,
   "metadata": {
    "collapsed": true
   },
   "outputs": [],
   "source": [
    "big_X = df_train[df_train.columns].append(df_test[df_test.columns])\n",
    "big_X_imputed = DataFrameImputer().fit_transform(big_X)"
   ]
  },
  {
   "cell_type": "markdown",
   "metadata": {},
   "source": [
    "XGBoost doesn't (yet) handle categorical features automatically, so we need to change\n",
    "them to columns of integer values.\n",
    "See http://scikit-learn.org/stable/modules/preprocessing.html#preprocessing for more\n",
    "details and options"
   ]
  },
  {
   "cell_type": "code",
   "execution_count": 39,
   "metadata": {
    "collapsed": true
   },
   "outputs": [],
   "source": [
    "categorizable_columns = ['gender', 'marital_status', 'job_position', 'education', 'living_region', 'tariff_id']\n",
    "le = LabelEncoder()\n",
    "for feature in categorizable_columns:\n",
    "    big_X_imputed[feature] = le.fit_transform(big_X_imputed[feature])"
   ]
  },
  {
   "cell_type": "code",
   "execution_count": 42,
   "metadata": {
    "collapsed": false
   },
   "outputs": [
    {
     "data": {
      "text/html": [
       "<div>\n",
       "<table border=\"1\" class=\"dataframe\">\n",
       "  <thead>\n",
       "    <tr style=\"text-align: right;\">\n",
       "      <th></th>\n",
       "      <th>age</th>\n",
       "      <th>client_id</th>\n",
       "      <th>credit_count</th>\n",
       "      <th>credit_month</th>\n",
       "      <th>credit_sum</th>\n",
       "      <th>education</th>\n",
       "      <th>gender</th>\n",
       "      <th>job_position</th>\n",
       "      <th>living_region</th>\n",
       "      <th>marital_status</th>\n",
       "      <th>monthly_income</th>\n",
       "      <th>open_account_flg</th>\n",
       "      <th>overdue_credit_count</th>\n",
       "      <th>score_shk</th>\n",
       "      <th>tariff_id</th>\n",
       "    </tr>\n",
       "  </thead>\n",
       "  <tbody>\n",
       "    <tr>\n",
       "      <th>91935</th>\n",
       "      <td>41</td>\n",
       "      <td>262682</td>\n",
       "      <td>1.0</td>\n",
       "      <td>12</td>\n",
       "      <td>10114.0</td>\n",
       "      <td>3</td>\n",
       "      <td>1</td>\n",
       "      <td>13</td>\n",
       "      <td>260</td>\n",
       "      <td>2</td>\n",
       "      <td>30000.0</td>\n",
       "      <td>0.0</td>\n",
       "      <td>0.0</td>\n",
       "      <td>0.347262</td>\n",
       "      <td>28</td>\n",
       "    </tr>\n",
       "    <tr>\n",
       "      <th>91936</th>\n",
       "      <td>33</td>\n",
       "      <td>262683</td>\n",
       "      <td>0.0</td>\n",
       "      <td>6</td>\n",
       "      <td>14807.0</td>\n",
       "      <td>3</td>\n",
       "      <td>1</td>\n",
       "      <td>13</td>\n",
       "      <td>133</td>\n",
       "      <td>3</td>\n",
       "      <td>30000.0</td>\n",
       "      <td>0.0</td>\n",
       "      <td>0.0</td>\n",
       "      <td>0.404430</td>\n",
       "      <td>26</td>\n",
       "    </tr>\n",
       "    <tr>\n",
       "      <th>91937</th>\n",
       "      <td>25</td>\n",
       "      <td>262684</td>\n",
       "      <td>1.0</td>\n",
       "      <td>10</td>\n",
       "      <td>19718.0</td>\n",
       "      <td>1</td>\n",
       "      <td>0</td>\n",
       "      <td>13</td>\n",
       "      <td>208</td>\n",
       "      <td>2</td>\n",
       "      <td>20000.0</td>\n",
       "      <td>0.0</td>\n",
       "      <td>0.0</td>\n",
       "      <td>0.341982</td>\n",
       "      <td>18</td>\n",
       "    </tr>\n",
       "    <tr>\n",
       "      <th>91938</th>\n",
       "      <td>26</td>\n",
       "      <td>262685</td>\n",
       "      <td>2.0</td>\n",
       "      <td>10</td>\n",
       "      <td>22258.0</td>\n",
       "      <td>3</td>\n",
       "      <td>1</td>\n",
       "      <td>13</td>\n",
       "      <td>135</td>\n",
       "      <td>3</td>\n",
       "      <td>28000.0</td>\n",
       "      <td>0.0</td>\n",
       "      <td>0.0</td>\n",
       "      <td>0.698764</td>\n",
       "      <td>20</td>\n",
       "    </tr>\n",
       "    <tr>\n",
       "      <th>91939</th>\n",
       "      <td>44</td>\n",
       "      <td>262686</td>\n",
       "      <td>0.0</td>\n",
       "      <td>6</td>\n",
       "      <td>31176.0</td>\n",
       "      <td>1</td>\n",
       "      <td>1</td>\n",
       "      <td>13</td>\n",
       "      <td>260</td>\n",
       "      <td>2</td>\n",
       "      <td>40000.0</td>\n",
       "      <td>0.0</td>\n",
       "      <td>0.0</td>\n",
       "      <td>0.238366</td>\n",
       "      <td>23</td>\n",
       "    </tr>\n",
       "  </tbody>\n",
       "</table>\n",
       "</div>"
      ],
      "text/plain": [
       "       age  client_id  credit_count  credit_month  credit_sum  education  \\\n",
       "91935   41     262682           1.0            12     10114.0          3   \n",
       "91936   33     262683           0.0             6     14807.0          3   \n",
       "91937   25     262684           1.0            10     19718.0          1   \n",
       "91938   26     262685           2.0            10     22258.0          3   \n",
       "91939   44     262686           0.0             6     31176.0          1   \n",
       "\n",
       "       gender  job_position  living_region  marital_status  monthly_income  \\\n",
       "91935       1            13            260               2         30000.0   \n",
       "91936       1            13            133               3         30000.0   \n",
       "91937       0            13            208               2         20000.0   \n",
       "91938       1            13            135               3         28000.0   \n",
       "91939       1            13            260               2         40000.0   \n",
       "\n",
       "       open_account_flg  overdue_credit_count  score_shk  tariff_id  \n",
       "91935               0.0                   0.0   0.347262         28  \n",
       "91936               0.0                   0.0   0.404430         26  \n",
       "91937               0.0                   0.0   0.341982         18  \n",
       "91938               0.0                   0.0   0.698764         20  \n",
       "91939               0.0                   0.0   0.238366         23  "
      ]
     },
     "execution_count": 42,
     "metadata": {},
     "output_type": "execute_result"
    }
   ],
   "source": [
    "big_X_imputed.tail()"
   ]
  },
  {
   "cell_type": "code",
   "execution_count": 64,
   "metadata": {
    "collapsed": false
   },
   "outputs": [],
   "source": [
    "# Prepare the inputs for the model\n",
    "train = big_X_imputed[0:df_train.shape[0]]\n",
    "test_X = big_X_imputed[df_train.shape[0]::]"
   ]
  },
  {
   "cell_type": "code",
   "execution_count": 65,
   "metadata": {
    "collapsed": false
   },
   "outputs": [],
   "source": [
    "test_X = test_X.drop('open_account_flg', axis = 1)\n",
    "train_X = train.drop([\"open_account_flg\", 'client_id'], axis=1)\n",
    "train_y = train[\"open_account_flg\"].astype(int)"
   ]
  },
  {
   "cell_type": "code",
   "execution_count": 66,
   "metadata": {
    "collapsed": false
   },
   "outputs": [
    {
     "data": {
      "text/plain": [
       "array([0, 0, 0, ..., 0, 0, 0])"
      ]
     },
     "execution_count": 66,
     "metadata": {},
     "output_type": "execute_result"
    }
   ],
   "source": [
    "train_y.as_matrix()"
   ]
  },
  {
   "cell_type": "code",
   "execution_count": null,
   "metadata": {
    "collapsed": false
   },
   "outputs": [
    {
     "name": "stdout",
     "output_type": "stream",
     "text": [
      "Fitting 3 folds for each of 24 candidates, totalling 72 fits\n",
      "[CV] n_estimators=300, learning_rate=0.05, max_depth=2 ...............\n",
      "[CV] n_estimators=300, learning_rate=0.05, max_depth=2 ...............\n",
      "[CV] n_estimators=300, learning_rate=0.05, max_depth=2 ...............\n",
      "[CV] n_estimators=1000, learning_rate=0.05, max_depth=2 ..............\n",
      "[CV]  n_estimators=300, learning_rate=0.05, max_depth=2, score=0.749684 - 1.1min\n",
      "[CV] n_estimators=1000, learning_rate=0.05, max_depth=2 ..............\n",
      "[CV]  n_estimators=300, learning_rate=0.05, max_depth=2, score=0.750658 - 1.2min\n",
      "[CV] n_estimators=1000, learning_rate=0.05, max_depth=2 ..............\n",
      "[CV]  n_estimators=300, learning_rate=0.05, max_depth=2, score=0.751043 - 1.2min\n",
      "[CV] n_estimators=2000, learning_rate=0.05, max_depth=2 ..............\n",
      "[CV]  n_estimators=1000, learning_rate=0.05, max_depth=2, score=0.759785 -168.2min\n",
      "[CV] n_estimators=2000, learning_rate=0.05, max_depth=2 ..............\n",
      "[CV]  n_estimators=1000, learning_rate=0.05, max_depth=2, score=0.759232 -168.3min\n",
      "[CV] n_estimators=2000, learning_rate=0.05, max_depth=2 ..............\n"
     ]
    },
    {
     "name": "stderr",
     "output_type": "stream",
     "text": [
      "[Parallel(n_jobs=-1)]: Done   5 tasks      | elapsed: 169.5min\n"
     ]
    },
    {
     "name": "stdout",
     "output_type": "stream",
     "text": [
      "[CV]  n_estimators=1000, learning_rate=0.05, max_depth=2, score=0.758723 -168.3min\n",
      "[CV] n_estimators=300, learning_rate=0.05, max_depth=3 ...............\n",
      "[CV]  n_estimators=300, learning_rate=0.05, max_depth=3, score=0.758410 - 1.7min\n",
      "[CV] n_estimators=300, learning_rate=0.05, max_depth=3 ...............\n",
      "[CV]  n_estimators=300, learning_rate=0.05, max_depth=3, score=0.757833 - 1.7min\n",
      "[CV] n_estimators=300, learning_rate=0.05, max_depth=3 ...............\n",
      "[CV]  n_estimators=2000, learning_rate=0.05, max_depth=2, score=0.762185 -172.2min\n",
      "[CV] n_estimators=1000, learning_rate=0.05, max_depth=3 ..............\n",
      "[CV]  n_estimators=300, learning_rate=0.05, max_depth=3, score=0.757417 - 1.7min\n",
      "[CV] n_estimators=1000, learning_rate=0.05, max_depth=3 ..............\n"
     ]
    },
    {
     "name": "stderr",
     "output_type": "stream",
     "text": [
      "[Parallel(n_jobs=-1)]: Done  10 tasks      | elapsed: 174.5min\n"
     ]
    },
    {
     "name": "stdout",
     "output_type": "stream",
     "text": [
      "[CV]  n_estimators=2000, learning_rate=0.05, max_depth=2, score=0.761804 - 7.8min\n",
      "[CV] n_estimators=1000, learning_rate=0.05, max_depth=3 ..............\n",
      "[CV]  n_estimators=2000, learning_rate=0.05, max_depth=2, score=0.761720 - 7.8min\n",
      "[CV] n_estimators=2000, learning_rate=0.05, max_depth=3 ..............\n",
      "[CV]  n_estimators=1000, learning_rate=0.05, max_depth=3, score=0.763714 - 5.5min\n",
      "[CV] n_estimators=2000, learning_rate=0.05, max_depth=3 ..............\n",
      "[CV]  n_estimators=1000, learning_rate=0.05, max_depth=3, score=0.763825 - 5.5min\n",
      "[CV] n_estimators=2000, learning_rate=0.05, max_depth=3 ..............\n",
      "[CV]  n_estimators=1000, learning_rate=0.05, max_depth=3, score=0.762974 - 5.5min\n",
      "[CV] n_estimators=300, learning_rate=0.05, max_depth=5 ...............\n",
      "[CV]  n_estimators=300, learning_rate=0.05, max_depth=5, score=0.762955 - 3.0min\n",
      "[CV] n_estimators=300, learning_rate=0.05, max_depth=5 ...............\n",
      "[CV]  n_estimators=300, learning_rate=0.05, max_depth=5, score=0.763417 - 3.1min\n",
      "[CV] n_estimators=300, learning_rate=0.05, max_depth=5 ...............\n"
     ]
    },
    {
     "name": "stderr",
     "output_type": "stream",
     "text": [
      "[Parallel(n_jobs=-1)]: Done  17 tasks      | elapsed: 187.6min\n"
     ]
    },
    {
     "name": "stdout",
     "output_type": "stream",
     "text": [
      "[CV]  n_estimators=2000, learning_rate=0.05, max_depth=3, score=0.765098 -11.0min\n",
      "[CV] n_estimators=1000, learning_rate=0.05, max_depth=5 ..............\n",
      "[CV]  n_estimators=2000, learning_rate=0.05, max_depth=3, score=0.764001 -11.0min\n",
      "[CV] n_estimators=1000, learning_rate=0.05, max_depth=5 ..............\n",
      "[CV]  n_estimators=300, learning_rate=0.05, max_depth=5, score=0.763257 - 3.0min\n",
      "[CV] n_estimators=1000, learning_rate=0.05, max_depth=5 ..............\n",
      "[CV]  n_estimators=2000, learning_rate=0.05, max_depth=3, score=0.763706 -11.0min\n",
      "[CV] n_estimators=2000, learning_rate=0.05, max_depth=5 ..............\n",
      "[CV]  n_estimators=1000, learning_rate=0.05, max_depth=5, score=0.763553 - 9.6min\n",
      "[CV] n_estimators=2000, learning_rate=0.05, max_depth=5 ..............\n",
      "[CV]  n_estimators=1000, learning_rate=0.05, max_depth=5, score=0.763829 - 9.6min\n",
      "[CV] n_estimators=2000, learning_rate=0.05, max_depth=5 ..............\n",
      "[CV]  n_estimators=1000, learning_rate=0.05, max_depth=5, score=0.763786 - 9.5min\n",
      "[CV] n_estimators=300, learning_rate=0.05, max_depth=10 ..............\n"
     ]
    },
    {
     "name": "stderr",
     "output_type": "stream",
     "text": [
      "[Parallel(n_jobs=-1)]: Done  24 tasks      | elapsed: 200.2min\n"
     ]
    },
    {
     "name": "stdout",
     "output_type": "stream",
     "text": [
      "[CV]  n_estimators=300, learning_rate=0.05, max_depth=10, score=0.756587 - 7.3min\n",
      "[CV] n_estimators=300, learning_rate=0.05, max_depth=10 ..............\n",
      "[CV]  n_estimators=2000, learning_rate=0.05, max_depth=5, score=0.760367 -18.6min\n",
      "[CV] n_estimators=300, learning_rate=0.05, max_depth=10 ..............\n",
      "[CV]  n_estimators=300, learning_rate=0.05, max_depth=10, score=0.757708 - 7.3min\n",
      "[CV] n_estimators=1000, learning_rate=0.05, max_depth=10 .............\n",
      "[CV]  n_estimators=2000, learning_rate=0.05, max_depth=5, score=0.760284 -18.6min\n",
      "[CV] n_estimators=1000, learning_rate=0.05, max_depth=10 .............\n",
      "[CV]  n_estimators=300, learning_rate=0.05, max_depth=10, score=0.757441 - 7.3min\n",
      "[CV] n_estimators=1000, learning_rate=0.05, max_depth=10 .............\n",
      "[CV]  n_estimators=2000, learning_rate=0.05, max_depth=5, score=0.760962 -18.5min\n",
      "[CV] n_estimators=2000, learning_rate=0.05, max_depth=10 .............\n",
      "[CV]  n_estimators=1000, learning_rate=0.05, max_depth=10, score=0.745947 -22.5min\n",
      "[CV] n_estimators=2000, learning_rate=0.05, max_depth=10 .............\n",
      "[CV]  n_estimators=1000, learning_rate=0.05, max_depth=10, score=0.746732 -23.0min\n",
      "[CV] n_estimators=2000, learning_rate=0.05, max_depth=10 .............\n",
      "[CV]  n_estimators=1000, learning_rate=0.05, max_depth=10, score=0.747892 -23.0min\n",
      "[CV] n_estimators=300, learning_rate=0.1, max_depth=2 ................\n"
     ]
    },
    {
     "name": "stderr",
     "output_type": "stream",
     "text": [
      "[Parallel(n_jobs=-1)]: Done  33 tasks      | elapsed: 239.9min\n"
     ]
    },
    {
     "name": "stdout",
     "output_type": "stream",
     "text": [
      "[CV]  n_estimators=300, learning_rate=0.1, max_depth=2, score=0.756964 - 1.2min\n",
      "[CV] n_estimators=300, learning_rate=0.1, max_depth=2 ................\n",
      "[CV]  n_estimators=300, learning_rate=0.1, max_depth=2, score=0.756435 - 1.1min\n",
      "[CV] n_estimators=300, learning_rate=0.1, max_depth=2 ................\n",
      "[CV]  n_estimators=300, learning_rate=0.1, max_depth=2, score=0.755825 - 1.2min\n",
      "[CV] n_estimators=1000, learning_rate=0.1, max_depth=2 ...............\n",
      "[CV]  n_estimators=1000, learning_rate=0.1, max_depth=2, score=0.762303 - 3.8min\n",
      "[CV] n_estimators=1000, learning_rate=0.1, max_depth=2 ...............\n",
      "[CV]  n_estimators=1000, learning_rate=0.1, max_depth=2, score=0.761926 - 3.9min\n",
      "[CV] n_estimators=1000, learning_rate=0.1, max_depth=2 ...............\n",
      "[CV]  n_estimators=1000, learning_rate=0.1, max_depth=2, score=0.761751 - 3.9min\n",
      "[CV] n_estimators=2000, learning_rate=0.1, max_depth=2 ...............\n",
      "[CV]  n_estimators=2000, learning_rate=0.1, max_depth=2, score=0.763438 - 7.8min\n",
      "[CV] n_estimators=2000, learning_rate=0.1, max_depth=2 ...............\n",
      "[CV]  n_estimators=2000, learning_rate=0.05, max_depth=10, score=0.735391 -45.0min\n",
      "[CV] n_estimators=2000, learning_rate=0.1, max_depth=2 ...............\n",
      "[CV]  n_estimators=2000, learning_rate=0.1, max_depth=2, score=0.762397 - 7.7min\n",
      "[CV] n_estimators=300, learning_rate=0.1, max_depth=3 ................\n"
     ]
    },
    {
     "name": "stderr",
     "output_type": "stream",
     "text": [
      "[Parallel(n_jobs=-1)]: Done  42 tasks      | elapsed: 270.4min\n"
     ]
    },
    {
     "name": "stdout",
     "output_type": "stream",
     "text": [
      "[CV]  n_estimators=2000, learning_rate=0.1, max_depth=2, score=0.762490 - 7.6min\n",
      "[CV] n_estimators=300, learning_rate=0.1, max_depth=3 ................\n",
      "[CV]  n_estimators=300, learning_rate=0.1, max_depth=3, score=0.762286 - 1.6min\n",
      "[CV] n_estimators=300, learning_rate=0.1, max_depth=3 ................\n",
      "[CV]  n_estimators=300, learning_rate=0.1, max_depth=3, score=0.762077 - 1.6min\n",
      "[CV] n_estimators=1000, learning_rate=0.1, max_depth=3 ...............\n",
      "[CV]  n_estimators=300, learning_rate=0.1, max_depth=3, score=0.761552 - 1.6min\n",
      "[CV] n_estimators=1000, learning_rate=0.1, max_depth=3 ...............\n",
      "[CV]  n_estimators=1000, learning_rate=0.1, max_depth=3, score=0.765227 - 5.3min\n",
      "[CV] n_estimators=1000, learning_rate=0.1, max_depth=3 ...............\n"
     ]
    }
   ],
   "source": [
    "gbm = xgb.XGBClassifier()\n",
    "gbm_params = {\n",
    "    'learning_rate': [0.05, 0.1],\n",
    "    'n_estimators': [300, 1000, 2000],\n",
    "    'max_depth': [2, 3, 5, 10],\n",
    "}\n",
    "cv = StratifiedKFold(n_splits=3)\n",
    "grid = GridSearchCV(gbm, gbm_params,scoring='roc_auc',verbose=10,n_jobs=-1)\n",
    "grid.fit(train_X, train_y)\n",
    "\n",
    "print (grid.best_params_)"
   ]
  },
  {
   "cell_type": "code",
   "execution_count": null,
   "metadata": {
    "collapsed": true
   },
   "outputs": [],
   "source": [
    "predictions = grid.best_estimator_.predict(test_X)"
   ]
  }
 ],
 "metadata": {
  "kernelspec": {
   "display_name": "Python 2",
   "language": "python",
   "name": "python2"
  },
  "language_info": {
   "codemirror_mode": {
    "name": "ipython",
    "version": 2
   },
   "file_extension": ".py",
   "mimetype": "text/x-python",
   "name": "python",
   "nbconvert_exporter": "python",
   "pygments_lexer": "ipython2",
   "version": "2.7.12"
  }
 },
 "nbformat": 4,
 "nbformat_minor": 2
}

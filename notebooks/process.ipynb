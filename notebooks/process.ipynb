{
 "cells": [
  {
   "cell_type": "code",
   "execution_count": 1,
   "metadata": {
    "collapsed": false
   },
   "outputs": [
    {
     "name": "stderr",
     "output_type": "stream",
     "text": [
      "/usr/lib/python2.7/dist-packages/matplotlib/font_manager.py:273: UserWarning: Matplotlib is building the font cache using fc-list. This may take a moment.\n",
      "  warnings.warn('Matplotlib is building the font cache using fc-list. This may take a moment.')\n",
      "/usr/local/lib/python2.7/dist-packages/sklearn/cross_validation.py:44: DeprecationWarning: This module was deprecated in version 0.18 in favor of the model_selection module into which all the refactored classes and functions are moved. Also note that the interface of the new CV iterators are different from that of this module. This module will be removed in 0.20.\n",
      "  \"This module will be removed in 0.20.\", DeprecationWarning)\n",
      "/usr/local/lib/python2.7/dist-packages/sklearn/grid_search.py:43: DeprecationWarning: This module was deprecated in version 0.18 in favor of the model_selection module into which all the refactored classes and functions are moved. This module will be removed in 0.20.\n",
      "  DeprecationWarning)\n"
     ]
    }
   ],
   "source": [
    "import pandas as pd\n",
    "import numpy as np\n",
    "from sklearn.ensemble import RandomForestClassifier\n",
    "from scipy import stats\n",
    "import matplotlib.pyplot as plt\n",
    "from sklearn import cross_validation\n",
    "from sklearn.cross_validation import cross_val_score\n",
    "from sklearn.grid_search import RandomizedSearchCV\n",
    "from scipy.stats import randint as sp_randint\n",
    "from sklearn.ensemble import GradientBoostingClassifier\n",
    "from scipy.stats import uniform\n",
    "%matplotlib inline\n",
    "plt.style.use('ggplot')"
   ]
  },
  {
   "cell_type": "code",
   "execution_count": 3,
   "metadata": {
    "collapsed": false
   },
   "outputs": [],
   "source": [
    "data_test = pd.read_csv(\"../data/raw/credit_test.csv\", encoding='cp1251', sep=';')"
   ]
  },
  {
   "cell_type": "code",
   "execution_count": 4,
   "metadata": {
    "collapsed": false
   },
   "outputs": [
    {
     "data": {
      "text/html": [
       "<div>\n",
       "<table border=\"1\" class=\"dataframe\">\n",
       "  <thead>\n",
       "    <tr style=\"text-align: right;\">\n",
       "      <th></th>\n",
       "      <th>client_id</th>\n",
       "      <th>gender</th>\n",
       "      <th>age</th>\n",
       "      <th>marital_status</th>\n",
       "      <th>job_position</th>\n",
       "      <th>credit_sum</th>\n",
       "      <th>credit_month</th>\n",
       "      <th>tariff_id</th>\n",
       "      <th>score_shk</th>\n",
       "      <th>education</th>\n",
       "      <th>living_region</th>\n",
       "      <th>monthly_income</th>\n",
       "      <th>credit_count</th>\n",
       "      <th>overdue_credit_count</th>\n",
       "    </tr>\n",
       "  </thead>\n",
       "  <tbody>\n",
       "    <tr>\n",
       "      <th>0</th>\n",
       "      <td>170747</td>\n",
       "      <td>F</td>\n",
       "      <td>48</td>\n",
       "      <td>MAR</td>\n",
       "      <td>UMN</td>\n",
       "      <td>16558,00</td>\n",
       "      <td>10</td>\n",
       "      <td>1.10</td>\n",
       "      <td>0,370409</td>\n",
       "      <td>GRD</td>\n",
       "      <td>ХАКАСИЯ РЕСП</td>\n",
       "      <td>34000</td>\n",
       "      <td>2.0</td>\n",
       "      <td>0.0</td>\n",
       "    </tr>\n",
       "    <tr>\n",
       "      <th>1</th>\n",
       "      <td>170748</td>\n",
       "      <td>M</td>\n",
       "      <td>29</td>\n",
       "      <td>MAR</td>\n",
       "      <td>SPC</td>\n",
       "      <td>7028,72</td>\n",
       "      <td>6</td>\n",
       "      <td>1.40</td>\n",
       "      <td>0,377281</td>\n",
       "      <td>SCH</td>\n",
       "      <td>ОБЛ КЕМЕРОВСКАЯ</td>\n",
       "      <td>19000</td>\n",
       "      <td>3.0</td>\n",
       "      <td>0.0</td>\n",
       "    </tr>\n",
       "    <tr>\n",
       "      <th>2</th>\n",
       "      <td>170749</td>\n",
       "      <td>F</td>\n",
       "      <td>20</td>\n",
       "      <td>UNM</td>\n",
       "      <td>SPC</td>\n",
       "      <td>13019,00</td>\n",
       "      <td>10</td>\n",
       "      <td>1.60</td>\n",
       "      <td>0,538515</td>\n",
       "      <td>SCH</td>\n",
       "      <td>ОБЛ БЕЛГОРОДСКАЯ</td>\n",
       "      <td>25000</td>\n",
       "      <td>1.0</td>\n",
       "      <td>0.0</td>\n",
       "    </tr>\n",
       "    <tr>\n",
       "      <th>3</th>\n",
       "      <td>170750</td>\n",
       "      <td>F</td>\n",
       "      <td>41</td>\n",
       "      <td>MAR</td>\n",
       "      <td>SPC</td>\n",
       "      <td>9379,00</td>\n",
       "      <td>10</td>\n",
       "      <td>1.10</td>\n",
       "      <td>0,482520</td>\n",
       "      <td>GRD</td>\n",
       "      <td>ОБЛ ИРКУТСКАЯ</td>\n",
       "      <td>30000</td>\n",
       "      <td>0.0</td>\n",
       "      <td>0.0</td>\n",
       "    </tr>\n",
       "    <tr>\n",
       "      <th>4</th>\n",
       "      <td>170751</td>\n",
       "      <td>F</td>\n",
       "      <td>31</td>\n",
       "      <td>MAR</td>\n",
       "      <td>SPC</td>\n",
       "      <td>13990,00</td>\n",
       "      <td>6</td>\n",
       "      <td>1.43</td>\n",
       "      <td>0,485914</td>\n",
       "      <td>GRD</td>\n",
       "      <td>ОБЛ КИРОВСКАЯ</td>\n",
       "      <td>20000</td>\n",
       "      <td>2.0</td>\n",
       "      <td>0.0</td>\n",
       "    </tr>\n",
       "  </tbody>\n",
       "</table>\n",
       "</div>"
      ],
      "text/plain": [
       "   client_id gender  age marital_status job_position credit_sum  credit_month  \\\n",
       "0     170747      F   48            MAR          UMN   16558,00            10   \n",
       "1     170748      M   29            MAR          SPC    7028,72             6   \n",
       "2     170749      F   20            UNM          SPC   13019,00            10   \n",
       "3     170750      F   41            MAR          SPC    9379,00            10   \n",
       "4     170751      F   31            MAR          SPC   13990,00             6   \n",
       "\n",
       "   tariff_id score_shk education     living_region  monthly_income  \\\n",
       "0       1.10  0,370409       GRD      ХАКАСИЯ РЕСП           34000   \n",
       "1       1.40  0,377281       SCH   ОБЛ КЕМЕРОВСКАЯ           19000   \n",
       "2       1.60  0,538515       SCH  ОБЛ БЕЛГОРОДСКАЯ           25000   \n",
       "3       1.10  0,482520       GRD     ОБЛ ИРКУТСКАЯ           30000   \n",
       "4       1.43  0,485914       GRD     ОБЛ КИРОВСКАЯ           20000   \n",
       "\n",
       "   credit_count  overdue_credit_count  \n",
       "0           2.0                   0.0  \n",
       "1           3.0                   0.0  \n",
       "2           1.0                   0.0  \n",
       "3           0.0                   0.0  \n",
       "4           2.0                   0.0  "
      ]
     },
     "execution_count": 4,
     "metadata": {},
     "output_type": "execute_result"
    }
   ],
   "source": [
    "data_test.head()"
   ]
  },
  {
   "cell_type": "code",
   "execution_count": 5,
   "metadata": {
    "collapsed": true
   },
   "outputs": [],
   "source": [
    "data_train = pd.read_csv(\"../data/raw/credit_train.csv\", encoding='cp1251', sep=';')"
   ]
  },
  {
   "cell_type": "code",
   "execution_count": 6,
   "metadata": {
    "collapsed": false,
    "scrolled": true
   },
   "outputs": [
    {
     "data": {
      "text/html": [
       "<div>\n",
       "<table border=\"1\" class=\"dataframe\">\n",
       "  <thead>\n",
       "    <tr style=\"text-align: right;\">\n",
       "      <th></th>\n",
       "      <th>client_id</th>\n",
       "      <th>gender</th>\n",
       "      <th>age</th>\n",
       "      <th>marital_status</th>\n",
       "      <th>job_position</th>\n",
       "      <th>credit_sum</th>\n",
       "      <th>credit_month</th>\n",
       "      <th>tariff_id</th>\n",
       "      <th>score_shk</th>\n",
       "      <th>education</th>\n",
       "      <th>living_region</th>\n",
       "      <th>monthly_income</th>\n",
       "      <th>credit_count</th>\n",
       "      <th>overdue_credit_count</th>\n",
       "      <th>open_account_flg</th>\n",
       "    </tr>\n",
       "  </thead>\n",
       "  <tbody>\n",
       "    <tr>\n",
       "      <th>0</th>\n",
       "      <td>1</td>\n",
       "      <td>M</td>\n",
       "      <td>48</td>\n",
       "      <td>MAR</td>\n",
       "      <td>UMN</td>\n",
       "      <td>59998,00</td>\n",
       "      <td>10</td>\n",
       "      <td>1.6</td>\n",
       "      <td>0,770249</td>\n",
       "      <td>GRD</td>\n",
       "      <td>КРАСНОДАРСКИЙ КРАЙ</td>\n",
       "      <td>30000.0</td>\n",
       "      <td>1.0</td>\n",
       "      <td>1.0</td>\n",
       "      <td>0</td>\n",
       "    </tr>\n",
       "    <tr>\n",
       "      <th>1</th>\n",
       "      <td>2</td>\n",
       "      <td>F</td>\n",
       "      <td>28</td>\n",
       "      <td>MAR</td>\n",
       "      <td>UMN</td>\n",
       "      <td>10889,00</td>\n",
       "      <td>6</td>\n",
       "      <td>1.1</td>\n",
       "      <td>0,248514</td>\n",
       "      <td>GRD</td>\n",
       "      <td>МОСКВА</td>\n",
       "      <td>43000.0</td>\n",
       "      <td>2.0</td>\n",
       "      <td>0.0</td>\n",
       "      <td>0</td>\n",
       "    </tr>\n",
       "    <tr>\n",
       "      <th>2</th>\n",
       "      <td>3</td>\n",
       "      <td>M</td>\n",
       "      <td>32</td>\n",
       "      <td>MAR</td>\n",
       "      <td>SPC</td>\n",
       "      <td>10728,00</td>\n",
       "      <td>12</td>\n",
       "      <td>1.1</td>\n",
       "      <td>0,459589</td>\n",
       "      <td>SCH</td>\n",
       "      <td>ОБЛ САРАТОВСКАЯ</td>\n",
       "      <td>23000.0</td>\n",
       "      <td>5.0</td>\n",
       "      <td>0.0</td>\n",
       "      <td>0</td>\n",
       "    </tr>\n",
       "    <tr>\n",
       "      <th>3</th>\n",
       "      <td>4</td>\n",
       "      <td>F</td>\n",
       "      <td>27</td>\n",
       "      <td>DIV</td>\n",
       "      <td>SPC</td>\n",
       "      <td>12009,09</td>\n",
       "      <td>12</td>\n",
       "      <td>1.1</td>\n",
       "      <td>0,362536</td>\n",
       "      <td>GRD</td>\n",
       "      <td>ОБЛ ВОЛГОГРАДСКАЯ</td>\n",
       "      <td>17000.0</td>\n",
       "      <td>2.0</td>\n",
       "      <td>0.0</td>\n",
       "      <td>0</td>\n",
       "    </tr>\n",
       "    <tr>\n",
       "      <th>4</th>\n",
       "      <td>5</td>\n",
       "      <td>M</td>\n",
       "      <td>45</td>\n",
       "      <td>MAR</td>\n",
       "      <td>SPC</td>\n",
       "      <td>16908,89</td>\n",
       "      <td>10</td>\n",
       "      <td>1.1</td>\n",
       "      <td>0,421385</td>\n",
       "      <td>SCH</td>\n",
       "      <td>ЧЕЛЯБИНСКАЯ ОБЛАСТЬ</td>\n",
       "      <td>25000.0</td>\n",
       "      <td>1.0</td>\n",
       "      <td>0.0</td>\n",
       "      <td>0</td>\n",
       "    </tr>\n",
       "  </tbody>\n",
       "</table>\n",
       "</div>"
      ],
      "text/plain": [
       "   client_id gender  age marital_status job_position credit_sum  credit_month  \\\n",
       "0          1      M   48            MAR          UMN   59998,00            10   \n",
       "1          2      F   28            MAR          UMN   10889,00             6   \n",
       "2          3      M   32            MAR          SPC   10728,00            12   \n",
       "3          4      F   27            DIV          SPC   12009,09            12   \n",
       "4          5      M   45            MAR          SPC   16908,89            10   \n",
       "\n",
       "   tariff_id score_shk education        living_region  monthly_income  \\\n",
       "0        1.6  0,770249       GRD   КРАСНОДАРСКИЙ КРАЙ         30000.0   \n",
       "1        1.1  0,248514       GRD               МОСКВА         43000.0   \n",
       "2        1.1  0,459589       SCH      ОБЛ САРАТОВСКАЯ         23000.0   \n",
       "3        1.1  0,362536       GRD    ОБЛ ВОЛГОГРАДСКАЯ         17000.0   \n",
       "4        1.1  0,421385       SCH  ЧЕЛЯБИНСКАЯ ОБЛАСТЬ         25000.0   \n",
       "\n",
       "   credit_count  overdue_credit_count  open_account_flg  \n",
       "0           1.0                   1.0                 0  \n",
       "1           2.0                   0.0                 0  \n",
       "2           5.0                   0.0                 0  \n",
       "3           2.0                   0.0                 0  \n",
       "4           1.0                   0.0                 0  "
      ]
     },
     "execution_count": 6,
     "metadata": {},
     "output_type": "execute_result"
    }
   ],
   "source": [
    "data_train.head()"
   ]
  },
  {
   "cell_type": "code",
   "execution_count": 7,
   "metadata": {
    "collapsed": true
   },
   "outputs": [],
   "source": [
    "def change(x):\n",
    "    #print(type(x))\n",
    "    s = x.split(',')\n",
    "    return s[0] + '.' + s[1]\n",
    "    "
   ]
  },
  {
   "cell_type": "code",
   "execution_count": 78,
   "metadata": {
    "collapsed": false
   },
   "outputs": [],
   "source": [
    "def split_data(data_transformed):\n",
    "    data = data_transformed.drop(['open_account_flg', 'client_id'], axis = 1)\n",
    "    data = pd.get_dummies(data, columns=['education', 'job_position', 'marital_status', 'gender', 'tariff_id', 'living_region'])\n",
    "    target = data_transformed['open_account_flg']\n",
    "    print(type(data))\n",
    "    data = data.fillna(0)\n",
    "    data[['score_shk', 'credit_sum']] = data[['score_shk', 'credit_sum']].apply(lambda x: map(change, x))\n",
    "    data[['score_shk', 'credit_sum']] = data[['score_shk', 'credit_sum']].apply(pd.to_numeric)\n",
    "    x_train, x_val, y_train, y_val = cross_validation.train_test_split(data, target, test_size=0.15, random_state=123, stratify = target)\n",
    "    return x_train, x_val, y_train, y_val"
   ]
  },
  {
   "cell_type": "code",
   "execution_count": 79,
   "metadata": {
    "collapsed": true
   },
   "outputs": [],
   "source": [
    "def transform_data(data):\n",
    "    data_transformed = data\n",
    "    data_transformed['gender'] = students['sex'] == \"M\"\n",
    "    return data_transformed"
   ]
  },
  {
   "cell_type": "code",
   "execution_count": 80,
   "metadata": {
    "collapsed": false
   },
   "outputs": [
    {
     "name": "stdout",
     "output_type": "stream",
     "text": [
      "<class 'pandas.core.frame.DataFrame'>\n"
     ]
    }
   ],
   "source": [
    "x_train, x_val, y_train, y_val = split_data(data_train)"
   ]
  },
  {
   "cell_type": "code",
   "execution_count": 30,
   "metadata": {
    "collapsed": false
   },
   "outputs": [
    {
     "data": {
      "text/html": [
       "<div>\n",
       "<table border=\"1\" class=\"dataframe\">\n",
       "  <thead>\n",
       "    <tr style=\"text-align: right;\">\n",
       "      <th></th>\n",
       "      <th>age</th>\n",
       "      <th>credit_sum</th>\n",
       "      <th>credit_month</th>\n",
       "      <th>score_shk</th>\n",
       "      <th>monthly_income</th>\n",
       "      <th>credit_count</th>\n",
       "      <th>overdue_credit_count</th>\n",
       "      <th>education_ACD</th>\n",
       "      <th>education_GRD</th>\n",
       "      <th>education_PGR</th>\n",
       "      <th>...</th>\n",
       "      <th>living_region_ЧУВАШИЯ ЧУВАШСКАЯ РЕСПУБЛИКА -</th>\n",
       "      <th>living_region_ЧУВАШСКАЯ - ЧУВАШИЯ РЕСП</th>\n",
       "      <th>living_region_ЧУВАШСКАЯ РЕСП</th>\n",
       "      <th>living_region_ЧУВАШСКАЯ РЕСПУБЛИКА</th>\n",
       "      <th>living_region_ЧУВАШСКАЯ РЕСПУБЛИКА - ЧУВАШИЯ</th>\n",
       "      <th>living_region_ЧУКОТСКИЙ АО</th>\n",
       "      <th>living_region_ЭВЕНКИЙСКИЙ АО</th>\n",
       "      <th>living_region_ЯМАЛО-НЕНЕЦКИЙ АО</th>\n",
       "      <th>living_region_ЯРОСЛАВСКАЯ ОБЛ</th>\n",
       "      <th>living_region_ЯРОСЛАВСКАЯ ОБЛАСТЬ</th>\n",
       "    </tr>\n",
       "  </thead>\n",
       "  <tbody>\n",
       "    <tr>\n",
       "      <th>169317</th>\n",
       "      <td>49</td>\n",
       "      <td>16279.0</td>\n",
       "      <td>10</td>\n",
       "      <td>0.465462</td>\n",
       "      <td>30000.0</td>\n",
       "      <td>3.0</td>\n",
       "      <td>0.0</td>\n",
       "      <td>0</td>\n",
       "      <td>0</td>\n",
       "      <td>0</td>\n",
       "      <td>...</td>\n",
       "      <td>0</td>\n",
       "      <td>0</td>\n",
       "      <td>0</td>\n",
       "      <td>0</td>\n",
       "      <td>0</td>\n",
       "      <td>0</td>\n",
       "      <td>0</td>\n",
       "      <td>0</td>\n",
       "      <td>0</td>\n",
       "      <td>0</td>\n",
       "    </tr>\n",
       "    <tr>\n",
       "      <th>58535</th>\n",
       "      <td>42</td>\n",
       "      <td>53110.8</td>\n",
       "      <td>14</td>\n",
       "      <td>0.645696</td>\n",
       "      <td>32000.0</td>\n",
       "      <td>3.0</td>\n",
       "      <td>1.0</td>\n",
       "      <td>0</td>\n",
       "      <td>0</td>\n",
       "      <td>0</td>\n",
       "      <td>...</td>\n",
       "      <td>0</td>\n",
       "      <td>0</td>\n",
       "      <td>0</td>\n",
       "      <td>0</td>\n",
       "      <td>0</td>\n",
       "      <td>0</td>\n",
       "      <td>0</td>\n",
       "      <td>0</td>\n",
       "      <td>0</td>\n",
       "      <td>0</td>\n",
       "    </tr>\n",
       "    <tr>\n",
       "      <th>116190</th>\n",
       "      <td>53</td>\n",
       "      <td>20257.0</td>\n",
       "      <td>24</td>\n",
       "      <td>0.447536</td>\n",
       "      <td>20000.0</td>\n",
       "      <td>2.0</td>\n",
       "      <td>0.0</td>\n",
       "      <td>0</td>\n",
       "      <td>0</td>\n",
       "      <td>0</td>\n",
       "      <td>...</td>\n",
       "      <td>0</td>\n",
       "      <td>0</td>\n",
       "      <td>0</td>\n",
       "      <td>0</td>\n",
       "      <td>0</td>\n",
       "      <td>0</td>\n",
       "      <td>0</td>\n",
       "      <td>0</td>\n",
       "      <td>0</td>\n",
       "      <td>0</td>\n",
       "    </tr>\n",
       "    <tr>\n",
       "      <th>167236</th>\n",
       "      <td>29</td>\n",
       "      <td>9592.0</td>\n",
       "      <td>6</td>\n",
       "      <td>0.211393</td>\n",
       "      <td>20000.0</td>\n",
       "      <td>2.0</td>\n",
       "      <td>0.0</td>\n",
       "      <td>0</td>\n",
       "      <td>1</td>\n",
       "      <td>0</td>\n",
       "      <td>...</td>\n",
       "      <td>0</td>\n",
       "      <td>0</td>\n",
       "      <td>0</td>\n",
       "      <td>0</td>\n",
       "      <td>0</td>\n",
       "      <td>0</td>\n",
       "      <td>0</td>\n",
       "      <td>0</td>\n",
       "      <td>0</td>\n",
       "      <td>0</td>\n",
       "    </tr>\n",
       "    <tr>\n",
       "      <th>42798</th>\n",
       "      <td>38</td>\n",
       "      <td>68989.0</td>\n",
       "      <td>10</td>\n",
       "      <td>0.442669</td>\n",
       "      <td>110000.0</td>\n",
       "      <td>2.0</td>\n",
       "      <td>0.0</td>\n",
       "      <td>0</td>\n",
       "      <td>1</td>\n",
       "      <td>0</td>\n",
       "      <td>...</td>\n",
       "      <td>0</td>\n",
       "      <td>0</td>\n",
       "      <td>0</td>\n",
       "      <td>0</td>\n",
       "      <td>0</td>\n",
       "      <td>0</td>\n",
       "      <td>0</td>\n",
       "      <td>0</td>\n",
       "      <td>0</td>\n",
       "      <td>0</td>\n",
       "    </tr>\n",
       "  </tbody>\n",
       "</table>\n",
       "<p>5 rows × 370 columns</p>\n",
       "</div>"
      ],
      "text/plain": [
       "        age  credit_sum  credit_month  score_shk  monthly_income  \\\n",
       "169317   49     16279.0            10   0.465462         30000.0   \n",
       "58535    42     53110.8            14   0.645696         32000.0   \n",
       "116190   53     20257.0            24   0.447536         20000.0   \n",
       "167236   29      9592.0             6   0.211393         20000.0   \n",
       "42798    38     68989.0            10   0.442669        110000.0   \n",
       "\n",
       "        credit_count  overdue_credit_count  education_ACD  education_GRD  \\\n",
       "169317           3.0                   0.0              0              0   \n",
       "58535            3.0                   1.0              0              0   \n",
       "116190           2.0                   0.0              0              0   \n",
       "167236           2.0                   0.0              0              1   \n",
       "42798            2.0                   0.0              0              1   \n",
       "\n",
       "        education_PGR                ...                  \\\n",
       "169317              0                ...                   \n",
       "58535               0                ...                   \n",
       "116190              0                ...                   \n",
       "167236              0                ...                   \n",
       "42798               0                ...                   \n",
       "\n",
       "        living_region_ЧУВАШИЯ ЧУВАШСКАЯ РЕСПУБЛИКА -  \\\n",
       "169317                                             0   \n",
       "58535                                              0   \n",
       "116190                                             0   \n",
       "167236                                             0   \n",
       "42798                                              0   \n",
       "\n",
       "        living_region_ЧУВАШСКАЯ - ЧУВАШИЯ РЕСП  living_region_ЧУВАШСКАЯ РЕСП  \\\n",
       "169317                                       0                             0   \n",
       "58535                                        0                             0   \n",
       "116190                                       0                             0   \n",
       "167236                                       0                             0   \n",
       "42798                                        0                             0   \n",
       "\n",
       "        living_region_ЧУВАШСКАЯ РЕСПУБЛИКА  \\\n",
       "169317                                   0   \n",
       "58535                                    0   \n",
       "116190                                   0   \n",
       "167236                                   0   \n",
       "42798                                    0   \n",
       "\n",
       "        living_region_ЧУВАШСКАЯ РЕСПУБЛИКА - ЧУВАШИЯ  \\\n",
       "169317                                             0   \n",
       "58535                                              0   \n",
       "116190                                             0   \n",
       "167236                                             0   \n",
       "42798                                              0   \n",
       "\n",
       "        living_region_ЧУКОТСКИЙ АО  living_region_ЭВЕНКИЙСКИЙ АО  \\\n",
       "169317                           0                             0   \n",
       "58535                            0                             0   \n",
       "116190                           0                             0   \n",
       "167236                           0                             0   \n",
       "42798                            0                             0   \n",
       "\n",
       "        living_region_ЯМАЛО-НЕНЕЦКИЙ АО  living_region_ЯРОСЛАВСКАЯ ОБЛ  \\\n",
       "169317                                0                              0   \n",
       "58535                                 0                              0   \n",
       "116190                                0                              0   \n",
       "167236                                0                              0   \n",
       "42798                                 0                              0   \n",
       "\n",
       "        living_region_ЯРОСЛАВСКАЯ ОБЛАСТЬ  \n",
       "169317                                  0  \n",
       "58535                                   0  \n",
       "116190                                  0  \n",
       "167236                                  0  \n",
       "42798                                   0  \n",
       "\n",
       "[5 rows x 370 columns]"
      ]
     },
     "execution_count": 30,
     "metadata": {},
     "output_type": "execute_result"
    }
   ],
   "source": [
    "x_train.head()"
   ]
  },
  {
   "cell_type": "code",
   "execution_count": 33,
   "metadata": {
    "collapsed": false
   },
   "outputs": [
    {
     "name": "stdout",
     "output_type": "stream",
     "text": [
      "Best randomized search score - 0.761376614249\n",
      "Validation score - 0.761083455344\n"
     ]
    }
   ],
   "source": [
    "rf_clf = RandomForestClassifier(class_weight = \"balanced\")\n",
    "rf_param_dist ={\"n_estimators\" : np.arange(10, 100, 10),\n",
    "                  \"max_depth\": sp_randint(1, 31),\n",
    "                  \"max_features\": sp_randint(1, 10),\n",
    "                  \"min_samples_leaf\": sp_randint(1, 11),\n",
    "                  \"max_features\" : [\"auto\", \"sqrt\", \"log2\"],\n",
    "                  \"criterion\": [\"gini\", \"entropy\"]}\n",
    "\n",
    "n_iter_search = 250\n",
    "rf_random_search = RandomizedSearchCV(rf_clf, param_distributions = rf_param_dist,\n",
    "                                   n_iter = n_iter_search, random_state = 123, cv=5)\n",
    "rf_random_search.fit(x_train, y_train)\n",
    "rf_clf = rf_random_search.best_estimator_\n",
    "rf_val_score = rf_clf.score(x_val, y_val)\n",
    "print(\"Best randomized search score - %s\" % rf_random_search.best_score_)\n",
    "print(\"Validation score - %s\" % rf_val_score)"
   ]
  },
  {
   "cell_type": "code",
   "execution_count": 97,
   "metadata": {
    "collapsed": false
   },
   "outputs": [
    {
     "name": "stdout",
     "output_type": "stream",
     "text": [
      "0.666673807259\n"
     ]
    }
   ],
   "source": [
    "from sklearn.metrics import roc_auc_score\n",
    "y_predict = rf_clf.predict(x_val)\n",
    "print(roc_auc_score(y_val, y_predict))"
   ]
  },
  {
   "cell_type": "code",
   "execution_count": 84,
   "metadata": {
    "collapsed": true
   },
   "outputs": [],
   "source": [
    "def prepare_data(data_transformed):\n",
    "    data = data_transformed.drop(['client_id'], axis = 1)\n",
    "    data = pd.get_dummies(data, columns=['education', 'job_position', 'marital_status', 'gender', 'tariff_id', 'living_region'])\n",
    "    target = data_transformed['client_id']\n",
    "    data = data.fillna(0)\n",
    "    data[['score_shk', 'credit_sum']] = data[['score_shk', 'credit_sum']].apply(lambda x: map(change, x))\n",
    "    data[['score_shk', 'credit_sum']] = data[['score_shk', 'credit_sum']].apply(pd.to_numeric)\n",
    "    return data, target"
   ]
  },
  {
   "cell_type": "code",
   "execution_count": 87,
   "metadata": {
    "collapsed": true
   },
   "outputs": [],
   "source": [
    "def get_best_features(rf_clf, kol):\n",
    "    t = []\n",
    "    for i in range(0, len(x_train.columns)):\n",
    "        t.append((x_train.columns[i], rf_clf.feature_importances_[i]))\n",
    "    sorted_by_second = sorted(t, key=lambda tup: tup[1], reverse=True)\n",
    "    best_features = [x[0] for x in sorted_by_second][:kol]\n",
    "    return best_features"
   ]
  },
  {
   "cell_type": "code",
   "execution_count": 90,
   "metadata": {
    "collapsed": false
   },
   "outputs": [],
   "source": [
    "def get_result(rf_clf, best_features):\n",
    "    from sklearn.metrics import roc_auc_score\n",
    "    y_predict = rf_clf.predict(x_val[best_features])\n",
    "    print(roc_auc_score(y_val, y_predict))"
   ]
  },
  {
   "cell_type": "code",
   "execution_count": 85,
   "metadata": {
    "collapsed": true
   },
   "outputs": [],
   "source": [
    "def get_ans_csv(model, best_features):\n",
    "    x_test, clients_id = prepare_data(data_test)\n",
    "    x_test_selected = x_test[best_features]\n",
    "    y_test = model.predict(x_test_selected)\n",
    "    ans = pd.DataFrame(\n",
    "    {'_ID_': clients_id,\n",
    "     '_VAL_': y_test,\n",
    "    })\n",
    "    ans.to_csv('./ans.csv', index=False)"
   ]
  },
  {
   "cell_type": "code",
   "execution_count": 74,
   "metadata": {
    "collapsed": false
   },
   "outputs": [
    {
     "data": {
      "text/plain": [
       "{'criterion': 'gini',\n",
       " 'max_depth': 29,\n",
       " 'max_features': 'auto',\n",
       " 'min_samples_leaf': 1,\n",
       " 'n_estimators': 70}"
      ]
     },
     "execution_count": 74,
     "metadata": {},
     "output_type": "execute_result"
    }
   ],
   "source": [
    "{'criterion': 'gini',\n",
    " 'max_depth': 29,\n",
    " 'max_features': 'auto',\n",
    " 'min_samples_leaf': 1,\n",
    " 'n_estimators': 70}"
   ]
  },
  {
   "cell_type": "code",
   "execution_count": 75,
   "metadata": {
    "collapsed": true
   },
   "outputs": [],
   "source": [
    "rf_best = RandomForestClassifier(n_estimators=70, max_depth=29, min_samples_leaf=1, n_jobs=-1)"
   ]
  },
  {
   "cell_type": "code",
   "execution_count": 106,
   "metadata": {
    "collapsed": false
   },
   "outputs": [
    {
     "data": {
      "text/plain": [
       "RandomForestClassifier(bootstrap=True, class_weight=None, criterion='gini',\n",
       "            max_depth=29, max_features='auto', max_leaf_nodes=None,\n",
       "            min_impurity_split=1e-07, min_samples_leaf=1,\n",
       "            min_samples_split=2, min_weight_fraction_leaf=0.0,\n",
       "            n_estimators=70, n_jobs=-1, oob_score=False, random_state=None,\n",
       "            verbose=0, warm_start=False)"
      ]
     },
     "execution_count": 106,
     "metadata": {},
     "output_type": "execute_result"
    }
   ],
   "source": [
    "rf_best.fit(x_train, y_train)"
   ]
  },
  {
   "cell_type": "code",
   "execution_count": 113,
   "metadata": {
    "collapsed": false
   },
   "outputs": [],
   "source": [
    "best_features = get_best_features(rf_clf, 230)"
   ]
  },
  {
   "cell_type": "markdown",
   "metadata": {},
   "source": [
    "check available columns"
   ]
  },
  {
   "cell_type": "code",
   "execution_count": 114,
   "metadata": {
    "collapsed": false
   },
   "outputs": [],
   "source": [
    "xx = x_test[best_features]"
   ]
  },
  {
   "cell_type": "code",
   "execution_count": 92,
   "metadata": {
    "collapsed": false
   },
   "outputs": [
    {
     "name": "stdout",
     "output_type": "stream",
     "text": [
      "0.522467954367\n"
     ]
    }
   ],
   "source": [
    "get_result(rf_best, x_train.columns)"
   ]
  },
  {
   "cell_type": "raw",
   "metadata": {},
   "source": [
    "rf_clf.fit(x_train, y_train)"
   ]
  },
  {
   "cell_type": "code",
   "execution_count": 96,
   "metadata": {
    "collapsed": false
   },
   "outputs": [
    {
     "name": "stdout",
     "output_type": "stream",
     "text": [
      "0.666673807259\n"
     ]
    }
   ],
   "source": [
    "get_result(rf_clf, x_train.columns)"
   ]
  },
  {
   "cell_type": "code",
   "execution_count": 115,
   "metadata": {
    "collapsed": false
   },
   "outputs": [
    {
     "name": "stdout",
     "output_type": "stream",
     "text": [
      "0.661621820664\n"
     ]
    }
   ],
   "source": [
    "rf_clf.fit(x_train[best_features], y_train)\n",
    "get_result(rf_clf, best_features)"
   ]
  },
  {
   "cell_type": "code",
   "execution_count": 100,
   "metadata": {
    "collapsed": true
   },
   "outputs": [],
   "source": [
    "get_ans_csv(rf_clf, best_features)"
   ]
  },
  {
   "cell_type": "code",
   "execution_count": 116,
   "metadata": {
    "collapsed": true
   },
   "outputs": [],
   "source": [
    "import cPickle\n",
    "\n",
    "with open(\"./rf_model\", 'wb') as f:\n",
    "    cPickle.dump(rf_clf, f)"
   ]
  },
  {
   "cell_type": "code",
   "execution_count": null,
   "metadata": {
    "collapsed": true
   },
   "outputs": [],
   "source": []
  }
 ],
 "metadata": {
  "kernelspec": {
   "display_name": "Python 2",
   "language": "python",
   "name": "python2"
  },
  "language_info": {
   "codemirror_mode": {
    "name": "ipython",
    "version": 2
   },
   "file_extension": ".py",
   "mimetype": "text/x-python",
   "name": "python",
   "nbconvert_exporter": "python",
   "pygments_lexer": "ipython2",
   "version": "2.7.12"
  }
 },
 "nbformat": 4,
 "nbformat_minor": 2
}
